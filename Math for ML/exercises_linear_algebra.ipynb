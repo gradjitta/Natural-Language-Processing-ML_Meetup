{
 "cells": [
  {
   "cell_type": "code",
   "execution_count": 161,
   "metadata": {},
   "outputs": [],
   "source": [
    "import numpy as np\n",
    "from numpy import linalg\n",
    "import sympy as sm\n",
    "import warnings\n",
    "warnings.simplefilter(\"ignore\")"
   ]
  },
  {
   "cell_type": "markdown",
   "metadata": {},
   "source": [
    "## Example 1\n",
    "### 2.4.b) Compute the following matrix products"
   ]
  },
  {
   "cell_type": "code",
   "execution_count": 162,
   "metadata": {},
   "outputs": [
    {
     "name": "stdout",
     "output_type": "stream",
     "text": [
      "Product of 2 matrices:\n",
      "----------------------\n",
      "[[ 4  3  5]\n",
      " [10  9 11]\n",
      " [16 15 17]]\n"
     ]
    }
   ],
   "source": [
    "\"\"\"\n",
    "- declare 2 matrices and perform multiplication using Numpy \n",
    "\n",
    "\"\"\"\n",
    "\n",
    "A =       [[1,2,3],\n",
    "           [4,5,6],\n",
    "           [7,8,9]]\n",
    "\n",
    "B =       [[1,1,0],\n",
    "           [0,1,1],\n",
    "           [1,0,1]]\n",
    "\n",
    "C = np.dot(A,B)\n",
    "print('Product of 2 matrices:')\n",
    "print('----------------------')\n",
    "\n",
    "print(C)"
   ]
  },
  {
   "cell_type": "markdown",
   "metadata": {},
   "source": [
    "### Optional: definition of matrix with zeros and ones "
   ]
  },
  {
   "cell_type": "code",
   "execution_count": 163,
   "metadata": {},
   "outputs": [
    {
     "name": "stdout",
     "output_type": "stream",
     "text": [
      "Matrix of zeros:\n",
      "----------------\n",
      "[[0. 0. 0.]\n",
      " [0. 0. 0.]\n",
      " [0. 0. 0.]]\n",
      "\n",
      "\n",
      "Matrix of ones:\n",
      "---------------\n",
      "[[1. 1. 1.]\n",
      " [1. 1. 1.]\n",
      " [1. 1. 1.]]\n"
     ]
    }
   ],
   "source": [
    "\n",
    "zero_matrix = np.zeros((3,3))\n",
    "ones_matrix = np.ones((3,3))\n",
    "\n",
    "print('Matrix of zeros:')\n",
    "print('----------------')\n",
    "print(zero_matrix)\n",
    "print('\\n')\n",
    "\n",
    "print('Matrix of ones:')\n",
    "print('---------------')\n",
    "print(ones_matrix)"
   ]
  },
  {
   "cell_type": "markdown",
   "metadata": {},
   "source": [
    "## Example 2\n",
    "### 2.5.a) Find the set S of all solutions in x of the following inhomogeneous linear system $Ax = b$."
   ]
  },
  {
   "cell_type": "markdown",
   "metadata": {},
   "source": [
    "> The linear system Ax = b is called *homogeneous* if b = 0; otherwise, it is called *inhomogeneous*."
   ]
  },
  {
   "cell_type": "code",
   "execution_count": 164,
   "metadata": {},
   "outputs": [],
   "source": [
    "A = np.array([[1,1,-1,-1],\n",
    "             [2,5,-7,-5],\n",
    "             [2,-1,1,-3],\n",
    "             [5,2,-4,2]])\n",
    "\n",
    "b = np.array([1, -2, 4, 6])  "
   ]
  },
  {
   "cell_type": "markdown",
   "metadata": {},
   "source": [
    "### Question 1: is matrix A invertible? "
   ]
  },
  {
   "cell_type": "code",
   "execution_count": 165,
   "metadata": {},
   "outputs": [
    {
     "name": "stdout",
     "output_type": "stream",
     "text": [
      "Matrix A is invertible.\n",
      "\n",
      "\n",
      "Determinant of A is:\n",
      "-72.00000000000007\n"
     ]
    }
   ],
   "source": [
    "if(linalg.det(A) !=0):\n",
    "    print('Matrix A is invertible.')\n",
    "else: \n",
    "    ('Matrix is not invertible.')\n",
    "print('\\n')\n",
    "print('Determinant of A is:')\n",
    "print(linalg.det(A))"
   ]
  },
  {
   "cell_type": "markdown",
   "metadata": {},
   "source": [
    "### Question 2: is matrix A squared? "
   ]
  },
  {
   "cell_type": "code",
   "execution_count": 166,
   "metadata": {},
   "outputs": [
    {
     "name": "stdout",
     "output_type": "stream",
     "text": [
      "(4, 4)\n"
     ]
    }
   ],
   "source": [
    "print(A.shape)"
   ]
  },
  {
   "cell_type": "markdown",
   "metadata": {},
   "source": [
    "### Question 3: are columns of matrix A linearly independent? "
   ]
  },
  {
   "cell_type": "code",
   "execution_count": 167,
   "metadata": {},
   "outputs": [
    {
     "name": "stdout",
     "output_type": "stream",
     "text": [
      "Reduced row echelon form of A is:\n"
     ]
    },
    {
     "data": {
      "text/latex": [
       "$\\displaystyle \\left[\\begin{matrix}1 & 0 & 0 & 0\\\\0 & 1 & 0 & 0\\\\0 & 0 & 1 & 0\\\\0 & 0 & 0 & 1\\end{matrix}\\right]$"
      ],
      "text/plain": [
       "Matrix([\n",
       "[1, 0, 0, 0],\n",
       "[0, 1, 0, 0],\n",
       "[0, 0, 1, 0],\n",
       "[0, 0, 0, 1]])"
      ]
     },
     "execution_count": 167,
     "metadata": {},
     "output_type": "execute_result"
    }
   ],
   "source": [
    "rf, inds = sm.Matrix(A).rref()\n",
    "print('Reduced row echelon form of A is:')\n",
    "rf"
   ]
  },
  {
   "cell_type": "code",
   "execution_count": 168,
   "metadata": {},
   "outputs": [
    {
     "name": "stdout",
     "output_type": "stream",
     "text": [
      "Pivot columns are: \n",
      "\n",
      "\n",
      "(0, 1, 2, 3)\n"
     ]
    }
   ],
   "source": [
    "print('Pivot columns are: ')\n",
    "print('\\n')\n",
    "print(inds)"
   ]
  },
  {
   "cell_type": "markdown",
   "metadata": {},
   "source": [
    "### Approach 1: using $x = {A}^{-1}b$ "
   ]
  },
  {
   "cell_type": "markdown",
   "metadata": {},
   "source": [
    "### Solve manually "
   ]
  },
  {
   "cell_type": "code",
   "execution_count": 169,
   "metadata": {},
   "outputs": [
    {
     "name": "stdout",
     "output_type": "stream",
     "text": [
      "Manual solution is:\n",
      "[1.77777778 0.13888889 0.83333333 0.08333333]\n"
     ]
    }
   ],
   "source": [
    "A_inv = np.linalg.inv(A)\n",
    "x = np.dot(A_inv, b)\n",
    "print('Manual solution is:')\n",
    "print(x)"
   ]
  },
  {
   "cell_type": "markdown",
   "metadata": {},
   "source": [
    "### Linalg implementation"
   ]
  },
  {
   "cell_type": "markdown",
   "metadata": {},
   "source": [
    "> $a$ must be square and of full-rank, i.e., all rows (or, equivalently, columns) must be linearly independent; if either is not true, use `lstsq` for the least-squares best “solution” of the system/equation."
   ]
  },
  {
   "cell_type": "code",
   "execution_count": 170,
   "metadata": {},
   "outputs": [
    {
     "name": "stdout",
     "output_type": "stream",
     "text": [
      "Linalg solution is:\n",
      "[1.77777778 0.13888889 0.83333333 0.08333333]\n"
     ]
    }
   ],
   "source": [
    "x = np.linalg.solve(A, b)\n",
    "print('Linalg solution is:')\n",
    "print(x)"
   ]
  },
  {
   "cell_type": "markdown",
   "metadata": {},
   "source": [
    "### Approach 2: using least-squares  (Moore-Penrose pseudo-inverse)"
   ]
  },
  {
   "cell_type": "markdown",
   "metadata": {},
   "source": [
    "$Ax = b$ <br>\n",
    "$x = {(A^TA)}^{-1}A^Tb$"
   ]
  },
  {
   "cell_type": "code",
   "execution_count": 171,
   "metadata": {},
   "outputs": [],
   "source": [
    "A_inv = np.linalg.inv(A)\n",
    "A_T = np.transpose(A)\n",
    "p_inv = np.dot(np.linalg.inv(np.dot(A_T, A)), \n",
    "               A_T)"
   ]
  },
  {
   "cell_type": "code",
   "execution_count": 172,
   "metadata": {},
   "outputs": [
    {
     "name": "stdout",
     "output_type": "stream",
     "text": [
      "[1.77777778 0.13888889 0.83333333 0.08333333]\n"
     ]
    }
   ],
   "source": [
    "x = np.dot(p_inv, b)\n",
    "print(x)"
   ]
  },
  {
   "cell_type": "markdown",
   "metadata": {},
   "source": [
    "## Example 3\n",
    "### 2.6.a) Using Gaussian approach, find all solutions to the following inhomogeneous linear system $Ax = b$."
   ]
  },
  {
   "cell_type": "code",
   "execution_count": 183,
   "metadata": {},
   "outputs": [],
   "source": [
    "A = np.array([[0,1,0,0,1,0],\n",
    "              [0,0,0,1,1,0],\n",
    "              [0,1,0,0,0,1],\n",
    "             ])\n",
    "\n",
    "# note, here one dimension was added\n",
    "b = np.array([[2,-1,1]])"
   ]
  },
  {
   "cell_type": "markdown",
   "metadata": {},
   "source": [
    "> Note, that matrix is **not square** and **non-invertible**.  <br>\n",
    "`np.linalg.solve` needs a full-rank square matrix."
   ]
  },
  {
   "cell_type": "markdown",
   "metadata": {},
   "source": [
    "### Special solution to $Ax = b$"
   ]
  },
  {
   "cell_type": "code",
   "execution_count": 174,
   "metadata": {},
   "outputs": [],
   "source": [
    "A_b = np.concatenate((A, b.T), axis=1)"
   ]
  },
  {
   "cell_type": "code",
   "execution_count": 175,
   "metadata": {},
   "outputs": [
    {
     "name": "stdout",
     "output_type": "stream",
     "text": [
      "Reduced row echelon form of (A b) is:\n"
     ]
    },
    {
     "data": {
      "text/latex": [
       "$\\displaystyle \\left[\\begin{matrix}0 & 1 & 0 & 0 & 0 & 1 & 1\\\\0 & 0 & 0 & 1 & 0 & 1 & -2\\\\0 & 0 & 0 & 0 & 1 & -1 & 1\\end{matrix}\\right]$"
      ],
      "text/plain": [
       "Matrix([\n",
       "[0, 1, 0, 0, 0,  1,  1],\n",
       "[0, 0, 0, 1, 0,  1, -2],\n",
       "[0, 0, 0, 0, 1, -1,  1]])"
      ]
     },
     "execution_count": 175,
     "metadata": {},
     "output_type": "execute_result"
    }
   ],
   "source": [
    "rf, inds = sm.Matrix(A_b).rref()\n",
    "print('Reduced row echelon form of (A b) is:')\n",
    "rf"
   ]
  },
  {
   "cell_type": "code",
   "execution_count": 176,
   "metadata": {},
   "outputs": [
    {
     "name": "stdout",
     "output_type": "stream",
     "text": [
      "Pivot columns of (A b) are: \n",
      "\n",
      "\n",
      "(1, 3, 4)\n"
     ]
    }
   ],
   "source": [
    "print('Pivot columns of (A b) are: ')\n",
    "print('\\n')\n",
    "print(inds)"
   ]
  },
  {
   "cell_type": "code",
   "execution_count": 177,
   "metadata": {},
   "outputs": [
    {
     "name": "stdout",
     "output_type": "stream",
     "text": [
      "Reduced row echelon form of A is:\n"
     ]
    },
    {
     "data": {
      "text/latex": [
       "$\\displaystyle \\left[\\begin{matrix}0 & 1 & 0 & 0 & 0 & 1\\\\0 & 0 & 0 & 1 & 0 & 1\\\\0 & 0 & 0 & 0 & 1 & -1\\end{matrix}\\right]$"
      ],
      "text/plain": [
       "Matrix([\n",
       "[0, 1, 0, 0, 0,  1],\n",
       "[0, 0, 0, 1, 0,  1],\n",
       "[0, 0, 0, 0, 1, -1]])"
      ]
     },
     "execution_count": 177,
     "metadata": {},
     "output_type": "execute_result"
    }
   ],
   "source": [
    "rf_0, inds_0 = sm.Matrix(A).rref()\n",
    "print('Reduced row echelon form of A is:')\n",
    "rf_0"
   ]
  },
  {
   "cell_type": "markdown",
   "metadata": {},
   "source": [
    "General solution will be: <br>\n",
    "$$\\begin{bmatrix} 0 \\\\ 1 \\\\ 0 \\\\ -2 \\\\ 1 \\\\ 0 \\end{bmatrix} = c_1 \\begin{bmatrix} 0 \\\\ -1 \\\\ 0 \\\\ 1 \\\\ 1 \\\\ 1 \\end{bmatrix} $$ "
   ]
  },
  {
   "cell_type": "markdown",
   "metadata": {},
   "source": [
    "### References"
   ]
  },
  {
   "cell_type": "markdown",
   "metadata": {},
   "source": [
    "1. Mathematics for Machine Learning: https://mml-book.github.io/<br>\n",
    "2. Source for `linalg`: https://riptutorial.com/numpy/example/16034/find-the-least-squares-solution-to-a-linear-system-with-np-linalg-lstsq<br>\n",
    "3. Algorithmic approach to Gaussian elemenation: https://martin-thoma.com/solving-linear-equations-with-gaussian-elimination/"
   ]
  },
  {
   "cell_type": "code",
   "execution_count": null,
   "metadata": {},
   "outputs": [],
   "source": []
  }
 ],
 "metadata": {
  "kernelspec": {
   "display_name": "Python 3",
   "language": "python",
   "name": "python3"
  },
  "language_info": {
   "codemirror_mode": {
    "name": "ipython",
    "version": 3
   },
   "file_extension": ".py",
   "mimetype": "text/x-python",
   "name": "python",
   "nbconvert_exporter": "python",
   "pygments_lexer": "ipython3",
   "version": "3.6.8"
  }
 },
 "nbformat": 4,
 "nbformat_minor": 2
}
